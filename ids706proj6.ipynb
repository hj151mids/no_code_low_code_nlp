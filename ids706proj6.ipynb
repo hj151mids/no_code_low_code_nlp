{
  "nbformat": 4,
  "nbformat_minor": 0,
  "metadata": {
    "colab": {
      "name": "ids706proj6.ipynb",
      "provenance": [],
      "authorship_tag": "ABX9TyMgZFcPDAtXU0H0Uzy6U+2/",
      "include_colab_link": true
    },
    "kernelspec": {
      "name": "python3",
      "display_name": "Python 3"
    },
    "language_info": {
      "name": "python"
    }
  },
  "cells": [
    {
      "cell_type": "markdown",
      "metadata": {
        "id": "view-in-github",
        "colab_type": "text"
      },
      "source": [
        "<a href=\"https://colab.research.google.com/github/hj151mids/no_code_low_code_nlp/blob/main/ids706proj6.ipynb\" target=\"_parent\"><img src=\"https://colab.research.google.com/assets/colab-badge.svg\" alt=\"Open In Colab\"/></a>"
      ]
    },
    {
      "cell_type": "code",
      "metadata": {
        "colab": {
          "base_uri": "https://localhost:8080/"
        },
        "id": "kkDQNsN4DtjX",
        "outputId": "11563328-15ab-4996-968e-59775e2c5516"
      },
      "source": [
        "!wget https://raw.githubusercontent.com/hj151mids/no_code_low_code_nlp/main/hemingway.txt"
      ],
      "execution_count": 5,
      "outputs": [
        {
          "output_type": "stream",
          "name": "stdout",
          "text": [
            "--2021-10-11 01:58:04--  https://raw.githubusercontent.com/hj151mids/no_code_low_code_nlp/main/hemingway.txt\n",
            "Resolving raw.githubusercontent.com (raw.githubusercontent.com)... 185.199.110.133, 185.199.111.133, 185.199.109.133, ...\n",
            "Connecting to raw.githubusercontent.com (raw.githubusercontent.com)|185.199.110.133|:443... connected.\n",
            "HTTP request sent, awaiting response... 200 OK\n",
            "Length: 134517 (131K) [text/plain]\n",
            "Saving to: ‘hemingway.txt.2’\n",
            "\n",
            "\rhemingway.txt.2       0%[                    ]       0  --.-KB/s               \rhemingway.txt.2     100%[===================>] 131.36K  --.-KB/s    in 0.04s   \n",
            "\n",
            "2021-10-11 01:58:04 (3.27 MB/s) - ‘hemingway.txt.2’ saved [134517/134517]\n",
            "\n"
          ]
        }
      ]
    },
    {
      "cell_type": "code",
      "metadata": {
        "colab": {
          "base_uri": "https://localhost:8080/"
        },
        "id": "fPDK88XfEBv0",
        "outputId": "f47fdd6b-4c56-4c31-cff3-eb0699ff6cd5"
      },
      "source": [
        "!head hemingway.txt.2"
      ],
      "execution_count": 6,
      "outputs": [
        {
          "output_type": "stream",
          "name": "stdout",
          "text": [
            "THE OLD MAN AND THE SEA\n",
            "\n",
            "He was an old man who fished alone in a skiff in the Gulf Stream and he\n",
            "had gone eighty-four days now without taking a fish.  In the first\n",
            "forty days a boy had been with him.  But after forty days without a\n",
            "fish the boy's parents had told him that the old man was now definitely\n",
            "and finally _salao_, which is the worst form of unlucky, and the boy\n",
            "had gone at their orders in another boat which caught three good fish\n",
            "the first week.  It made the boy sad to see the old man come in each\n",
            "day with his skiff empty and he always went down to help him carry\n"
          ]
        }
      ]
    },
    {
      "cell_type": "code",
      "metadata": {
        "colab": {
          "base_uri": "https://localhost:8080/"
        },
        "id": "Cg-FVPWQEU09",
        "outputId": "26ad6863-f4b5-412a-e025-42e92646026c"
      },
      "source": [
        "!tail hemingway.txt.2"
      ],
      "execution_count": 7,
      "outputs": [
        {
          "output_type": "stream",
          "name": "stdout",
          "text": [
            "\"Tiburon,\" the waiter said, \"Eshark.\"  He was meaning to explain what\n",
            "had happened.\n",
            "\n",
            "\"I didn't know sharks had such handsome, beautifully formed tails.\"\n",
            "\n",
            "\"I didn't either,\" her male companion said.\n",
            "\n",
            "Up the road, in his shack, the old man was sleeping again.  He was\n",
            "still sleeping on his face and the boy was sitting by him watching him.\n",
            "The old man was dreaming about the lions.\n"
          ]
        }
      ]
    },
    {
      "cell_type": "code",
      "metadata": {
        "id": "MQ4nC6zNHYKx"
      },
      "source": [
        ""
      ],
      "execution_count": null,
      "outputs": []
    }
  ]
}